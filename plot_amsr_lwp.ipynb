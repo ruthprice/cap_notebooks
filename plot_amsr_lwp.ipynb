{
 "cells": [
  {
   "cell_type": "markdown",
   "id": "9336576a-c8b8-4ab9-bf95-499f7918f332",
   "metadata": {},
   "source": [
    "# plot_amsr_lwp.ipynb\n",
    "\n",
    "Code to plot maps and distributions of LWP from AMSR2 satellite and processed model output."
   ]
  },
  {
   "cell_type": "code",
   "execution_count": null,
   "id": "a2e1340d-4c30-4c48-8a2f-fc7e53fbd8fc",
   "metadata": {},
   "outputs": [],
   "source": [
    "import xarray as xr\n",
    "import pandas as pn\n",
    "import numpy as np\n",
    "import numpy.ma as ma\n",
    "import datetime as dt\n",
    "import matplotlib.pyplot as plt\n",
    "import matplotlib.dates as mdates\n",
    "import capricorn_figure_props as fprops\n",
    "import capricorn_functions as cfn\n",
    "import capricorn_constants as const\n",
    "from simulations import simulations\n",
    "from glob import glob\n",
    "from importlib import reload\n",
    "reload(cfn)\n",
    "reload(const)\n"
   ]
  },
  {
   "cell_type": "markdown",
   "id": "b38b2f43-2f99-4320-8a59-dc8d6de77f19",
   "metadata": {},
   "source": [
    "## Load AMSR2 measurements from file"
   ]
  },
  {
   "cell_type": "code",
   "execution_count": null,
   "id": "1cf8138e-75bf-4e76-b0e8-907c0c6267e2",
   "metadata": {},
   "outputs": [],
   "source": [
    "# load AMSR data in time order (using np.sort on filenames)\n",
    "amsr_files = np.sort(glob('data/amsr2/RSS_*'))\n",
    "amsr_lwp = []\n",
    "for file in amsr_files:\n",
    "    print(f'[INFO] loading {file}', flush=True)\n",
    "    da = xr.open_dataset(file)['cloud_liquid_water']\n",
    "    amsr_lwp.append(da)\n",
    "\n",
    "# flatten amsr list into 10x 2D dataarrays\n",
    "amsr_lwp = [da.isel({'pass':i}) for da in amsr_lwp for i in range(2)]\n",
    "amsr_lwp = amsr_lwp[1:-1]\n"
   ]
  },
  {
   "cell_type": "markdown",
   "id": "36fb77b8-1d89-4bdc-b78e-7acce38492a6",
   "metadata": {},
   "source": [
    "## Load model output\n",
    "Pre-processed:\n",
    "* compute-domain-lwp.py (to calculate 3D LWP from 4D cloud liquid water mass and air density)\n",
    "* regrid-to-amsr.py (to interpolate model output onto AMSR spatial grid)."
   ]
  },
  {
   "cell_type": "code",
   "execution_count": null,
   "id": "35e558c2-2113-47f9-b7bc-366a3b960601",
   "metadata": {},
   "outputs": [],
   "source": [
    "fill_val = -99999  # defined in regrid-to-amsr.py\n",
    "files = glob('data/model/*liquid_water_path_amsr.nc')\n",
    "sim_codes = [f.split('/')[2].split('_')[0] for f in files]\n",
    "simulations = np.array([sim for sim in simulations if sim.code in sim_codes])\n",
    "model_lwp = [xr.open_dataset(file).liquid_water_path for file in files]\n",
    "model_lwp = [da.where(da != fill_val) for da in model_lwp]\n",
    "print(f'[INFO] loaded {len(model_lwp)} simulations')\n",
    "\n",
    "data_mask = np.isnan(model_lwp[0][0])"
   ]
  },
  {
   "cell_type": "markdown",
   "id": "638fb5e1-a2f0-45f4-808c-9b8c15bc6218",
   "metadata": {},
   "source": [
    "## Make histograms of data"
   ]
  },
  {
   "cell_type": "code",
   "execution_count": null,
   "id": "2d6e2ceb-2b1f-46a6-b2e8-90799296e547",
   "metadata": {},
   "outputs": [],
   "source": [
    "mask_thresh = 1e-4  # kg m-2\n",
    "# Apply domain mask and cloud threshold mask to AMSR\n",
    "amsr_masked = [da.where(~data_mask).where(da>mask_thresh) for da in amsr_lwp]\n",
    "amsr_valid = ma.masked_invalid([da.values for da in amsr_masked]).compressed()\n",
    "\n",
    "# apply cloud threshold mask to model output\n",
    "model_valid = [ma.masked_invalid(da.where(da>mask_thresh).values).compressed() for da in model_lwp]\n",
    "\n",
    "# set distribution bins and call np.histogram\n",
    "amsr_ndata = len(amsr_valid)\n",
    "amsr_nbins = int(np.floor(np.sqrt(amsr_ndata)))\n",
    "amsr_cts, amsr_bins = np.histogram(amsr_valid*1000, bins=amsr_nbins,\n",
    "                                   density=True)\n",
    "model_min = []\n",
    "model_max = []\n",
    "model_mean = []\n",
    "model_median = []\n",
    "model_nbins = []\n",
    "model_cts = []\n",
    "model_bins = []\n",
    "for arr in model_valid:\n",
    "    model_min.append(ma.amin(arr*1000))\n",
    "    model_max.append(ma.amax(arr*1000))\n",
    "    model_mean.append(ma.mean(arr*1000))\n",
    "    model_median.append(ma.median(arr*1000))\n",
    "    model_ndata = len(arr)\n",
    "    model_nbins.append(int(np.ceil(np.sqrt(model_ndata))))\n",
    "    cts, bins = np.histogram(arr*1000, bins=model_nbins[-1],\n",
    "                             density=True)\n",
    "    model_cts.append(cts)\n",
    "    model_bins.append(bins)\n"
   ]
  },
  {
   "cell_type": "markdown",
   "id": "defd7621-a646-4aff-b0e8-c713a5751709",
   "metadata": {},
   "source": [
    "## Plot figure 7"
   ]
  },
  {
   "cell_type": "code",
   "execution_count": null,
   "id": "9ffe021b-16b7-4beb-bfe7-8ca1bb7f6242",
   "metadata": {},
   "outputs": [],
   "source": [
    "print('\\n\\nMaking manuscript figure')\n",
    "fig = plt.figure(figsize=(10*fprops.in_cm,10*fprops.in_cm), dpi=300)\n",
    "amsr_min = ma.amin(amsr_valid*1000)\n",
    "amsr_max = ma.amax(amsr_valid*1000)\n",
    "amsr_mean = ma.mean(amsr_valid*1000)\n",
    "amsr_median = ma.median(amsr_valid*1000)\n",
    "print(f'AMSR min, max, mean, median = {amsr_min:.2f}, {amsr_max:.2f}, {amsr_mean:.2f}, {amsr_median:.2f}')\n",
    "print(f'AMSR peak = {amsr_bins[ma.argmax(amsr_cts)]:.2f}')\n",
    "# AMSR\n",
    "plt.stairs(amsr_cts, amsr_bins, color='k',\n",
    "           label='AMSR2', lw=1.2)\n",
    "for s,sim in enumerate(simulations):\n",
    "    # model LWP only, in-cloud\n",
    "    plt.stairs(model_cts[s], model_bins[s],\n",
    "               color=sim.colour, label=sim.label, lw=sim.linewidth)\n",
    "    print(f'{sim.label} min, max, mean, median = {model_min[s]:.2f}, {model_max[s]:.2f}, {model_mean[s]:.2f}, {model_median[s]:.2f}')\n",
    "    print(f'{sim.label} peak = {model_bins[s][ma.argmax(model_cts[s])]:.2f}')\n",
    "plt.xlabel('LWP [g m-2]', fontsize=fprops.ax_label_fs)\n",
    "plt.ylabel('PDF', fontsize=fprops.ax_label_fs)\n",
    "plt.legend(fontsize=fprops.legend_fs)\n",
    "plt.savefig('figures/figure7.png', bbox_inches='tight', facecolor='white')\n"
   ]
  },
  {
   "cell_type": "code",
   "execution_count": null,
   "id": "da56a106-5319-4bbe-a583-4c396991c0dc",
   "metadata": {},
   "outputs": [],
   "source": []
  }
 ],
 "metadata": {
  "kernelspec": {
   "display_name": "Python 3 + Jaspy",
   "language": "python",
   "name": "jaspy"
  },
  "language_info": {
   "codemirror_mode": {
    "name": "ipython",
    "version": 3
   },
   "file_extension": ".py",
   "mimetype": "text/x-python",
   "name": "python",
   "nbconvert_exporter": "python",
   "pygments_lexer": "ipython3",
   "version": "3.11.9"
  }
 },
 "nbformat": 4,
 "nbformat_minor": 5
}
