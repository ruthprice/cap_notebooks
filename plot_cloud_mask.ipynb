{
 "cells": [
  {
   "cell_type": "markdown",
   "id": "8295c9e2-8c56-4a75-b4dc-73e1bbdcce33",
   "metadata": {},
   "source": [
    "# plot_cloud_mask.ipynb\n",
    "\n",
    "Code to plot time series of cloud mask from model and measurements."
   ]
  },
  {
   "cell_type": "code",
   "execution_count": null,
   "id": "58ec8631-aacb-4161-a5b3-aa62db7adfc9",
   "metadata": {},
   "outputs": [],
   "source": [
    "import xarray as xr\n",
    "import pandas as pn\n",
    "import numpy as np\n",
    "import numpy.ma as ma\n",
    "import datetime as dt\n",
    "import matplotlib\n",
    "import matplotlib.pyplot as plt\n",
    "import matplotlib.dates as mdates\n",
    "import capricorn_figure_props as fprops\n",
    "import capricorn_functions as cfn\n",
    "import capricorn_constants as const\n",
    "from simulations import simulations\n",
    "from glob import glob\n",
    "from importlib import reload\n",
    "reload(cfn)\n",
    "reload(const)\n"
   ]
  },
  {
   "cell_type": "markdown",
   "id": "d059b3ab-af60-43c0-8bcf-3c14d53586ac",
   "metadata": {},
   "source": [
    "## Load CAP measurements from file"
   ]
  },
  {
   "cell_type": "code",
   "execution_count": null,
   "id": "2de832f7-db61-4e37-b9c7-54d333760eef",
   "metadata": {},
   "outputs": [],
   "source": [
    "# Cloud mask radar and lidar\n",
    "radar_files = glob('data/CAPRICORN/LIDAR-RADAR*')\n",
    "fn_fmt = 'data/CAPRICORN/LIDAR-RADAR_merged.%Y%m%d.nc'\n",
    "jday_const = 1721425.5  # number of days from 1 Jan 4712 BC to 1 Jan 1 AD\n",
    "jday_ref_time = dt.datetime(1,1,1)\n",
    "cld_mask_da = []\n",
    "for file in radar_files:\n",
    "    print(file)\n",
    "    ds = xr.open_dataset(file, decode_times=False)['cld_mask']\n",
    "    time_name = 'hour'\n",
    "    ref_time = dt.datetime.strptime(file, fn_fmt)\n",
    "    time = np.array([ref_time + dt.timedelta(seconds=X*3600)\n",
    "                     for X in ds[time_name].values])\n",
    "    cld_mask_da.append(xr.DataArray(\n",
    "        data = ds.values,\n",
    "        coords = {\n",
    "            'height': ds['height'],\n",
    "            'time': time,\n",
    "        }\n",
    "    ))\n",
    "cap_cld_mask = xr.concat(cld_mask_da, dim='time')\n",
    "\n",
    "cap_cld_mask_1hr = cap_cld_mask.resample(time=\"1h\").reduce(ma.mean)\n"
   ]
  },
  {
   "cell_type": "markdown",
   "id": "7c88b520-361c-4aa8-9c59-3c5485ff9398",
   "metadata": {},
   "source": [
    "## Load model output"
   ]
  },
  {
   "cell_type": "code",
   "execution_count": null,
   "id": "348a32e5-6e2a-445a-8ac6-08698cfd2c65",
   "metadata": {},
   "outputs": [],
   "source": [
    "model_twc = []\n",
    "model_cf = []\n",
    "model_cfice = []\n",
    "i_fig_sim = [0,1]\n",
    "for sim in simulations[i_fig_sim]:\n",
    "    print(sim.code)\n",
    "    # load air density in kg m-3, to convert mass mixing ratio to concentrations\n",
    "    rho = cfn.load_air_density(sim.code, grid=False)\n",
    "    \n",
    "    liquid_mass = xr.open_dataarray(f'data/model/{sim.code}_m01s00i254_CAP.nc')\n",
    "    lwc = liquid_mass*rho.air_density\n",
    "    ice_mass = xr.open_dataarray(f'data/model/{sim.code}_m01s00i012_CAP.nc')\n",
    "    iwc = ice_mass*rho.air_density\n",
    "    model_twc.append(lwc+iwc)\n",
    "\n",
    "    # load cloud fraction\n",
    "    cfliq = xr.open_dataarray(f'data/model/{sim.code}_m01s00i267_CAP.nc')\n",
    "    model_cf.append(cfliq)\n",
    "    cfice = xr.open_dataarray(f'data/model/{sim.code}_m01s00i268_CAP.nc')\n",
    "    model_cfice.append(cfice)\n"
   ]
  },
  {
   "cell_type": "code",
   "execution_count": null,
   "id": "7c74c217-6da5-48df-8151-1812b314cc81",
   "metadata": {},
   "outputs": [],
   "source": [
    "twc_low_lim = 1000 # m\n",
    "twc_hi_lim = 4000\n",
    "twc_low_thresh = 1e-3 # g m-3\n",
    "twc_hi_thresh = 1e-4\n",
    "model_cld_mask = []\n",
    "for s,sim in enumerate(simulations[i_fig_sim]):\n",
    "    # calculate cloud mask based on TWC\n",
    "    model_z = model_twc[s].TH_1_60_eta_theta*const.ztop\n",
    "    twc_thresh = np.interp(model_z, [twc_low_lim,twc_hi_lim],[twc_low_thresh,twc_hi_thresh])\n",
    "    twc_thresh = np.expand_dims(twc_thresh, axis=(0))\n",
    "    twc_mask = 1000*model_twc[s]>= twc_thresh\n",
    "    model_cld_mask.append(twc_mask)\n"
   ]
  },
  {
   "cell_type": "markdown",
   "id": "6f46a506-4687-42ad-a111-991ff3331080",
   "metadata": {},
   "source": [
    "## Plot cloud mask comparison"
   ]
  },
  {
   "cell_type": "code",
   "execution_count": null,
   "id": "d503a647-3295-498a-986b-250404eb1c60",
   "metadata": {},
   "outputs": [],
   "source": [
    "cmap = matplotlib.colormaps['Blues_r']\n",
    "for s,sim in enumerate(simulations[i_fig_sim]):\n",
    "    # average of obs cloud mask\n",
    "    cld_mask_subset_1hr = cld_mask_subset[s].resample(time=\"1h\").reduce(ma.mean)\n",
    "    # plot\n",
    "    fig = plt.figure(figsize=(20*fprops.in_cm,12*fprops.in_cm), dpi=fprops.dpi)\n",
    "    ax1, ax2 = fig.subplots(2, 1)\n",
    "    sim = simulations[s]\n",
    "    model_z = 1e-3*model_cld_mask[s].TH_1_60_eta_theta*const.ztop\n",
    "    (cld_mask_subset_1hr>0).plot(ax=ax1, cmap=cmap, add_colorbar=False, add_labels=False)\n",
    "    ax2.pcolormesh(model_cld_mask[s].T1HR.values,\n",
    "                   model_z, model_cld_mask[s].T, cmap=cmap)\n",
    "    ax1.set_xlim(ax2.get_xlim())\n",
    "    ax1.set_xticklabels([])\n",
    "    ax1.set_ylim(0,10)\n",
    "    ax2.set_ylim(0,10)\n",
    "    ax1.set_title('(a)', loc='left', fontsize=fprops.ax_fs)\n",
    "    ax1.set_title('CAPRICORN-2 cloud mask product', fontsize=fprops.ax_fs)\n",
    "    ax2.set_title('(b)', loc='left', fontsize=fprops.ax_fs)\n",
    "    ax2.set_title('Model cloud mask from total water content', fontsize=fprops.ax_fs)\n",
    "    if sim.code == 'u-cu657':\n",
    "        fig.suptitle('Ocean', fontsize=fprops.label_fs, y=0.98)\n",
    "    else:\n",
    "        fig.suptitle('Coast', fontsize=fprops.label_fs, y=0.98)\n",
    "    ax2.tick_params(axis='x', labelsize=fprops.ax_fs)\n",
    "    ax1.tick_params(axis='y', labelsize=fprops.ax_fs)\n",
    "    ax2.tick_params(axis='y', labelsize=fprops.ax_fs)\n",
    "    xtick_fmt = '%d-%b'\n",
    "    ax2.xaxis.set_major_formatter(mdates.DateFormatter(xtick_fmt))\n",
    "    fig.supylabel('Altitude [km]', fontsize=fprops.ax_label_fs, x=0.05)\n",
    "    filename = f'figures/cloud_masks_{sim.code}.png'\n",
    "    plt.savefig(filename, bbox_inches='tight', facecolor='white')\n",
    "\n",
    "    # calculate rough cloud base/top\n",
    "    icap_cld_top = []\n",
    "    icap_cld_base = []\n",
    "    for i in np.arange(len(cld_mask_subset_1hr.time)):\n",
    "        if ma.any(ma.masked_invalid(cld_mask_subset_1hr.isel(time=i).values)):\n",
    "            icap_cld_top.append(np.amax(np.where(ma.masked_invalid(cld_mask_subset_1hr.isel(time=i)>0))[0]))\n",
    "            icap_cld_base.append(np.amin(np.where(ma.masked_invalid(cld_mask_subset_1hr.isel(time=i)>0))[0]))\n",
    "        else:\n",
    "            icap_cld_top.append(0)\n",
    "            icap_cld_base.append(0)\n",
    "    cap_cld_top = cld_mask_subset_1hr.height[icap_cld_top]\n",
    "    cap_cld_base = cld_mask_subset_1hr.height[icap_cld_base]\n",
    "    cap_cld_top = ma.masked_where(ma.any(ma.masked_invalid(cld_mask_subset_1hr.values), axis=0)==0, cap_cld_top)\n",
    "    cap_cld_base = ma.masked_where(ma.any(ma.masked_invalid(cld_mask_subset_1hr.values), axis=0)==0, cap_cld_base)\n",
    "\n",
    "    k_cld_top_twc = []\n",
    "    k_cld_base_twc = []\n",
    "    for i in np.arange(len(model_twc[s].T1HR)):\n",
    "        if np.any(model_cld_mask[s].isel(T1HR=i).values):\n",
    "            k_cld_top_twc.append(np.amax(np.where(model_cld_mask[s].isel(T1HR=i)>0)[0]))\n",
    "            k_cld_base_twc.append(np.amin(np.where(model_cld_mask[s].isel(T1HR=i)>0)[0]))\n",
    "        else:\n",
    "            k_cld_top_twc.append(0)\n",
    "            k_cld_base_twc.append(0)\n",
    "    cld_top_twc = model_z[k_cld_top_twc]\n",
    "    cld_base_twc = model_z[k_cld_base_twc]\n",
    "    cld_top_twc = ma.masked_where(ma.any(model_cld_mask[s], axis=1)==0, cld_top_twc)\n",
    "    cld_base_twc = ma.masked_where(ma.any(model_cld_mask[s], axis=1)==0, cld_base_twc)\n",
    "\n",
    "    fig = plt.figure(figsize=(20*fprops.in_cm,5*fprops.in_cm), dpi=fprops.dpi)\n",
    "    plt.fill_between(x=cld_mask_subset_1hr.time, y1=cap_cld_base, y2=cap_cld_top, color='k', alpha=0.5, edgecolor='None')\n",
    "    plt.fill_between(x=model_cld_mask[s].T1HR.values, y1=cld_base_twc, y2=cld_top_twc, color=sim.colour, alpha=0.5, edgecolor='None')\n",
    "    plt.xlim(ax1.get_xlim())\n",
    "    plt.ylim(bottom=0)\n",
    "    plt.ylabel('Height [km]')\n"
   ]
  }
 ],
 "metadata": {
  "kernelspec": {
   "display_name": "Python 3 + Jaspy",
   "language": "python",
   "name": "jaspy"
  },
  "language_info": {
   "codemirror_mode": {
    "name": "ipython",
    "version": 3
   },
   "file_extension": ".py",
   "mimetype": "text/x-python",
   "name": "python",
   "nbconvert_exporter": "python",
   "pygments_lexer": "ipython3",
   "version": "3.11.9"
  }
 },
 "nbformat": 4,
 "nbformat_minor": 5
}
