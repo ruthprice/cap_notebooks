{
 "cells": [
  {
   "cell_type": "markdown",
   "id": "10c28dff-c203-4746-8c5a-4fc0b789403a",
   "metadata": {},
   "source": [
    "# plot_domain_maps.ipynb\n",
    "\n",
    "This code plots maps of the UM model domains with the CAPRICORN-2 ship track."
   ]
  },
  {
   "cell_type": "code",
   "execution_count": null,
   "id": "a247c721-a5ba-4654-8959-f2784dc911cc",
   "metadata": {},
   "outputs": [],
   "source": [
    "import xarray as xr\n",
    "import numpy as np\n",
    "import datetime as dt\n",
    "import matplotlib.pyplot as plt\n",
    "import cartopy.crs as ccrs\n",
    "import cartopy.feature as cfeature\n",
    "import capricorn_figure_props as fprops\n",
    "from capricorn_functions import get_cap_coords"
   ]
  },
  {
   "cell_type": "markdown",
   "id": "655f1481-f22c-4df5-8e35-5bd6000be1ef",
   "metadata": {},
   "source": [
    "## Set the parameters that define the model domains"
   ]
  },
  {
   "cell_type": "code",
   "execution_count": null,
   "id": "5856ec0b-b1d1-4c51-b820-98312e1c93fd",
   "metadata": {},
   "outputs": [],
   "source": [
    "# ocean domain\n",
    "centre1 = [-58, 140] # lat, lon\n",
    "resx1 = 0.018\n",
    "resy1 = 0.018\n",
    "nx1 = 200\n",
    "ny1 = 700\n",
    "pole_lat1 = 90 + centre1[0]\n",
    "pole_lon1 = centre1[1]\n",
    "rot_pole1 = ccrs.RotatedPole(pole_longitude=pole_lon1, pole_latitude=pole_lat1)\n",
    "rE1 = 180 + 0.5*resx1*nx1\n",
    "rW1 = 180 - 0.5*resx1*nx1\n",
    "rS1 = -0.5*resy1*ny1\n",
    "rN1 = 0.5*resy1*ny1\n",
    "simstart1 = dt.datetime(2018,1,22,12)\n",
    "simend1 = dt.datetime(2018,1,28,12)\n",
    "# coastal domain\n",
    "centre2 = [-65.5, 145] # lat, lon\n",
    "resx2 = 0.018\n",
    "resy2 = 0.018\n",
    "nx2 = 730\n",
    "ny2 = 230\n",
    "pole_lat2 = 90 + centre2[0]\n",
    "pole_lon2 = centre2[1]\n",
    "rot_pole2 = ccrs.RotatedPole(pole_longitude=pole_lon2, pole_latitude=pole_lat2)\n",
    "rE2 = 180 + 0.5*resx2*nx2\n",
    "rW2 = 180 - 0.5*resx2*nx2\n",
    "rS2 = -0.5*resy2*ny2\n",
    "rN2 = 0.5*resy2*ny2\n",
    "simstart2 = dt.datetime(2018,1,31,12)\n",
    "simend2 = dt.datetime(2018,2,5,12)"
   ]
  },
  {
   "cell_type": "markdown",
   "id": "90c3126b-aec1-4de2-9b8b-35733e8aaaa8",
   "metadata": {},
   "source": [
    "## Load lat/lon coordinates of R/V Investigator during CAP-2"
   ]
  },
  {
   "cell_type": "code",
   "execution_count": null,
   "id": "2217b931-d3a4-43a3-a14c-a7f438247710",
   "metadata": {},
   "outputs": [],
   "source": [
    "cap_times, cap_lons, cap_lats = get_cap_coords()\n",
    "idomain1 = np.array([i for i,T in enumerate(cap_times)\n",
    "                     if T>simstart1 and T<simend1])\n",
    "idomain2 = np.array([i for i,T in enumerate(cap_times)\n",
    "                     if T>simstart2 and T<simend2])"
   ]
  },
  {
   "cell_type": "markdown",
   "id": "db2d08ef-55cf-4379-9c84-cf6d6665dd58",
   "metadata": {},
   "source": [
    "## Plot map"
   ]
  },
  {
   "cell_type": "code",
   "execution_count": null,
   "id": "4a4ef831-82cb-4d58-a3c1-5e11284e400b",
   "metadata": {},
   "outputs": [],
   "source": [
    "thin = 0.5\n",
    "thick = 1.2\n",
    "proj = ccrs.NearsidePerspective(central_latitude=-60,\n",
    "                                central_longitude=145)\n",
    "fig = plt.figure(figsize=(15*fprops.in_cm,15*fprops.in_cm), dpi=300)\n",
    "axes = fig.subplots(1, 2, subplot_kw={'projection':proj})\n",
    "# CAP track and coastlines\n",
    "for ax in axes:\n",
    "    ax.set_extent([120,170,-35,-70],crs=ccrs.PlateCarree())\n",
    "    gl = ax.gridlines(draw_labels=True, zorder=1, color='white', lw=0.5)\n",
    "    gl.xlabel_style = {'size': fprops.ax_fs}\n",
    "    gl.ylabel_style = {'size': fprops.ax_fs}\n",
    "    ax.add_feature(cfeature.LAND, color='dimgrey')\n",
    "    ax.set_facecolor('lightsteelblue')\n",
    "    ax.plot(cap_lons, cap_lats, color='k', transform=ccrs.Geodetic(),\n",
    "             label='CAPRICORN-2 track', linewidth=thin)\n",
    "# domain 1 outline\n",
    "axes[0].fill([rW1,rE1,rE1,rW1,rW1], [rN1,rN1,rS1,rS1,rN1], 'k',\n",
    "             transform=rot_pole1, alpha=0.4)\n",
    "axes[0].plot(cap_lons[idomain1], cap_lats[idomain1], color='k',\n",
    "         transform=ccrs.Geodetic(), linewidth=thick)\n",
    "axes[0].set_title('(a)', loc='left', fontsize=fprops.label_fs)\n",
    "axes[0].set_title('22nd to\\n28th January 2018', fontsize=fprops.label_fs)\n",
    "# domain 2 outline\n",
    "axes[1].fill([rW2,rW2,rE2,rE2,rW2], [rN2,rS2,rS2,rN2,rN2], 'k',\n",
    "             transform=rot_pole2, alpha=0.4)\n",
    "axes[1].plot(cap_lons[idomain2], cap_lats[idomain2], color='k',\n",
    "         transform=ccrs.Geodetic(), linewidth=thick)\n",
    "axes[1].set_title('(b)', loc='left', fontsize=fprops.label_fs)\n",
    "axes[1].set_title('31st January to\\n5th February 2018', fontsize=fprops.label_fs)\n",
    "filename = 'figures/figure1.png'\n",
    "plt.savefig(filename, bbox_inches='tight', facecolor='white')\n",
    "# also saving as .svg\n",
    "filename = 'figures/figure1.svg'\n",
    "plt.savefig(filename, bbox_inches='tight', facecolor='white')\n",
    "plt.close()\n"
   ]
  }
 ],
 "metadata": {
  "kernelspec": {
   "display_name": "Python 3 + Jaspy",
   "language": "python",
   "name": "jaspy"
  },
  "language_info": {
   "codemirror_mode": {
    "name": "ipython",
    "version": 3
   },
   "file_extension": ".py",
   "mimetype": "text/x-python",
   "name": "python",
   "nbconvert_exporter": "python",
   "pygments_lexer": "ipython3",
   "version": "3.11.9"
  }
 },
 "nbformat": 4,
 "nbformat_minor": 5
}
