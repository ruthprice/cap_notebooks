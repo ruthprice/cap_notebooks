{
 "cells": [
  {
   "cell_type": "markdown",
   "id": "d5367173-0803-48c5-b78d-e84b34c83e97",
   "metadata": {},
   "source": [
    "# compute_ukca_n10.py\n",
    "\n",
    "This code calculates N10 (concentration of particles greater than 10 nm) from time series of UKCA aerosol mass and number fields. UKCA lognormal modes are evaluated to a size distribution (dN/dlogD) and then the size distribution is integrated over sizes about 10 nm."
   ]
  },
  {
   "cell_type": "code",
   "execution_count": null,
   "id": "f94c0df3-ef29-42e7-ac46-5bb4d6bd55ef",
   "metadata": {},
   "outputs": [],
   "source": [
    "import numpy as np\n",
    "import capricorn_constants as const\n",
    "import capricorn_functions as cfn\n",
    "from importlib import reload\n",
    "import xarray as xr\n",
    "reload(const)\n",
    "reload(cfn)"
   ]
  },
  {
   "cell_type": "code",
   "execution_count": null,
   "id": "2f7d1707-d1e4-41f9-b4dc-6346ff94ab12",
   "metadata": {},
   "outputs": [],
   "source": [
    "def lognormal_pdf(mean, sigma, bins):\n",
    "    \"\"\"\n",
    "    returns pdf of specified lognormal dist at points given by bins\n",
    "    formula adapted from exmaple on numpy.random.lognormal webpage\n",
    "    returns pdf as a function of log(bins)\n",
    "    \"\"\"\n",
    "    if mean.shape != sigma.shape:\n",
    "        print(f\"\\n[lognormal_pdf] [WARNING] shape of mean ({mean.shape}) doesn't match shape of sigma ({sigma.shape})\")\n",
    "        print(f\"[lognormal_pdf] [WARNING] code will fail or produce unexpected behaviour\")\n",
    "    # first enusre bins can be broadcast to mean and sigma\n",
    "    # !!! this only works for a specific shape of mean and sigma\n",
    "    bins = np.expand_dims(bins, axis=(1,2))  # Shape becomes (n, 1, 1)\n",
    "    pdf = (np.exp(-(np.log(bins) - mean)**2 /\n",
    "                  (2 * sigma**2)) / (sigma * np.sqrt(2 * np.pi)))\n",
    "    return pdf \n"
   ]
  },
  {
   "cell_type": "code",
   "execution_count": null,
   "id": "9ecc47ff-59e2-41e0-906e-45542b5676a3",
   "metadata": {},
   "outputs": [],
   "source": [
    "def N10_from_modes(Nmode, Dmode, nbins=100):\n",
    "    '''\n",
    "    For lognormal modes with number concentrations Nmode and diameters Dmode [m],\n",
    "    evaluates modes over bins and then integrates for N10. N10 has same units as Nmode.\n",
    "    '''\n",
    "    # carry out some checks on dimensions\n",
    "    if len(Nmode) != len(Dmode):\n",
    "        print(f'[N10_from_modes] [WARNING] length of Nmode ({len(Nmode)}) doesnt match length of Dmode ({len(Dmode)})')\n",
    "        print(f'[N10_from_modes] [WARNING] expect code to fail or produce unexpected behaviour')\n",
    "    nmodes = len(Nmode)\n",
    "    modes = [key for key in const.mode_sig]\n",
    "    if len(Nmode) != len(modes):\n",
    "        print(f'[N10_from_modes] [WARNING] length of Nmode ({len(Nmode)}) doesnt match length of modes ({len(modes)})')\n",
    "        print(f'[N10_from_modes] [WARNING] expect code to fail or produce unexpected behaviour')\n",
    "    dims = Nmode[0].shape\n",
    "    bins = np.logspace(-9,-6, num=nbins)\n",
    "    logD = np.log(bins)\n",
    "    i_10nm = np.nonzero(bins < 10e-9)[0][-1] + 1\n",
    "    dNdlogD = np.zeros((nbins,*dims))\n",
    "    # loop over modes to sum up dN/dlogD\n",
    "    for m,mode in enumerate(modes):\n",
    "        D = Dmode[m].values\n",
    "        N = Nmode[m].values\n",
    "        sigma = const.mode_sig[mode]*np.ones(N.shape)\n",
    "        pdf = lognormal_pdf(np.log(D*1e09), \n",
    "                            np.log(sigma),\n",
    "                            bins*1e09)\n",
    "        dist = pdf*N.data\n",
    "        dNdlogD += dist\n",
    "    N10 = np.trapz(dNdlogD[i_10nm:], x=logD[i_10nm:], axis=0)\n",
    "    return N10\n"
   ]
  },
  {
   "cell_type": "markdown",
   "id": "7fb7ca3d-c52e-41f4-b23d-ab836053ffe2",
   "metadata": {},
   "source": [
    "## Load aerosol outputs"
   ]
  },
  {
   "cell_type": "code",
   "execution_count": null,
   "id": "cc4e999e-37a8-4620-a865-0ea73fd971dd",
   "metadata": {},
   "outputs": [],
   "source": [
    "# load air density in kg m-3, to convert aerosol mixing ratios to concentrations\n",
    "ocean_rho = cfn.load_air_density('u-cu657')\n",
    "ocean_particle_density_of_air = ((ocean_rho.air_density/const.molar_mass_air) * const.avogadro_number)\n",
    "coast_rho = cfn.load_air_density('u-cr700')\n",
    "coast_particle_density_of_air = ((coast_rho.air_density/const.molar_mass_air) * const.avogadro_number)\n",
    "\n",
    "modes = ['soluble_nucleation','soluble_aitken','soluble_accumulation',\n",
    "         'soluble_coarse','insoluble_aitken']\n",
    "mixing_ratio_stash = [\n",
    "    # UM stash codes for aerosol number mixing ratios\n",
    "    'm01s34i101',\n",
    "    'm01s34i103',\n",
    "    'm01s34i107',\n",
    "    'm01s34i113',\n",
    "    'm01s34i119'\n",
    "]\n",
    "diameter_stash = [\n",
    "    # UM stash codes for aerosol mode diameters\n",
    "    'm01s38i401',\n",
    "    'm01s38i402',\n",
    "    'm01s38i403',\n",
    "    'm01s38i404',\n",
    "    'm01s38i405'\n",
    "]\n",
    "# check if aerosol data output is saved\n",
    "for stash in mixing_ratio_stash:\n",
    "    cfn.check_file_exists('u-cr700', stash, verbose=True)\n",
    "    cfn.check_file_exists('u-cu657', stash, verbose=True)\n",
    "for stash in diameter_stash:\n",
    "    cfn.check_file_exists('u-cr700', stash, verbose=True)\n",
    "    cfn.check_file_exists('u-cu657', stash, verbose=True)\n",
    "\n",
    "# load mixing ratios and convert to concentration, load diameters\n",
    "ocean_mix_ratio = [xr.open_dataset(f'data/model/u-cu657_{stash}_CAP.nc')[f'STASH_{stash}'] for stash in mixing_ratio_stash]\n",
    "ocean_aero_conc = [nmr*ocean_particle_density_of_air for nmr in ocean_mix_ratio]\n",
    "ocean_diameters = [xr.open_dataset(f'data/model/u-cu657_{stash}_CAP.nc')[f'STASH_{stash}'] for stash in diameter_stash]\n",
    "coast_mix_ratio = [xr.open_dataset(f'data/model/u-cr700_{stash}_CAP.nc')[f'STASH_{stash}'] for stash in mixing_ratio_stash]\n",
    "coast_aero_conc = [nmr*coast_particle_density_of_air for nmr in coast_mix_ratio]\n",
    "coast_diameters = [xr.open_dataset(f'data/model/u-cr700_{stash}_CAP.nc')[f'STASH_{stash}'] for stash in diameter_stash]\n"
   ]
  },
  {
   "cell_type": "markdown",
   "id": "a0091082-b81f-4bae-834b-06c359ad3c29",
   "metadata": {},
   "source": [
    "### Load output for ERA5_INITIAL"
   ]
  },
  {
   "cell_type": "code",
   "execution_count": null,
   "id": "9883b3f6-9d0d-49d6-a1a0-2b092ea07ad3",
   "metadata": {},
   "outputs": [],
   "source": [
    "era5_initial_code = 'u-cw894'\n",
    "era5_initial_rho = cfn.load_air_density(era5_initial_code)\n",
    "era5_initial_particle_density_of_air = ((era5_initial_rho.air_density/const.molar_mass_air) * const.avogadro_number)\n",
    "for stash in mixing_ratio_stash:\n",
    "    cfn.check_file_exists(era5_initial_code, stash, verbose=True)\n",
    "for stash in diameter_stash:\n",
    "    cfn.check_file_exists(era5_initial_code, stash, verbose=True)\n",
    "era5_initial_mix_ratio = [xr.open_dataset(f'data/model/{era5_initial_code}_{stash}_CAP.nc')[f'STASH_{stash}'] for stash in mixing_ratio_stash]\n",
    "era5_initial_aero_conc = [nmr*era5_initial_particle_density_of_air for nmr in era5_initial_mix_ratio]\n",
    "era5_initial_diameters = [xr.open_dataset(f'data/model/{era5_initial_code}_{stash}_CAP.nc')[f'STASH_{stash}'] for stash in diameter_stash]\n"
   ]
  },
  {
   "cell_type": "markdown",
   "id": "84484a1d-84bc-4491-b0f2-5767788376c5",
   "metadata": {},
   "source": [
    "## Calculate N10"
   ]
  },
  {
   "cell_type": "code",
   "execution_count": null,
   "id": "c3d3c99e-7356-41ed-8b77-22614a294e5f",
   "metadata": {},
   "outputs": [],
   "source": [
    "ocean_ntime = ocean_aero_conc[0].shape\n",
    "coast_ntime = coast_aero_conc[0].shape\n",
    "ocean_N10_arr = N10_from_modes(ocean_aero_conc, ocean_diameters)\n",
    "coast_N10_arr = N10_from_modes(coast_aero_conc, coast_diameters)\n",
    "\n",
    "ocean_N10 = xr.DataArray(\n",
    "    data=ocean_N10_arr,\n",
    "    coords=ocean_aero_conc[0].coords,\n",
    "    name='n10'\n",
    ")\n",
    "coast_N10 = xr.DataArray(\n",
    "    data=coast_N10_arr,\n",
    "    coords=coast_aero_conc[0].coords,\n",
    "    name='n10'\n",
    ")\n"
   ]
  },
  {
   "cell_type": "markdown",
   "id": "c063f5b0-89ef-4f58-a1d7-df3d7f53ad12",
   "metadata": {},
   "source": [
    "### Calculate N10 for ERA5_INITIAL"
   ]
  },
  {
   "cell_type": "code",
   "execution_count": null,
   "id": "f5c083cf-c546-4632-9f73-fef95b31779d",
   "metadata": {},
   "outputs": [],
   "source": [
    "era5_initial_ntime = era5_initial_aero_conc[0].shape\n",
    "era5_initial_N10_arr = N10_from_modes(era5_initial_aero_conc, era5_initial_diameters)\n",
    "era5_initial_N10 = xr.DataArray(\n",
    "    data=era5_initial_N10_arr,\n",
    "    coords=era5_initial_aero_conc[0].coords,\n",
    "    name='n10'\n",
    ")\n",
    "\n"
   ]
  },
  {
   "cell_type": "markdown",
   "id": "3838ddd2-562e-42b2-af92-9b8c62bf7b6b",
   "metadata": {},
   "source": [
    "## Save to file"
   ]
  },
  {
   "cell_type": "code",
   "execution_count": null,
   "id": "a40cb44c-15de-4ee0-91f8-a6940224f47f",
   "metadata": {},
   "outputs": [],
   "source": [
    "filename = 'data/model/u-cu657_N10_CAP.nc'\n",
    "ocean_N10.to_netcdf(filename)\n",
    "filename = 'data/model/u-cr700_N10_CAP.nc'\n",
    "coast_N10.to_netcdf(filename)\n"
   ]
  }
 ],
 "metadata": {
  "kernelspec": {
   "display_name": "Python 3 + Jaspy",
   "language": "python",
   "name": "jaspy"
  },
  "language_info": {
   "codemirror_mode": {
    "name": "ipython",
    "version": 3
   },
   "file_extension": ".py",
   "mimetype": "text/x-python",
   "name": "python",
   "nbconvert_exporter": "python",
   "pygments_lexer": "ipython3",
   "version": "3.11.9"
  }
 },
 "nbformat": 4,
 "nbformat_minor": 5
}
